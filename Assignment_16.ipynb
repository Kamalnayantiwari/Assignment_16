{
 "cells": [
  {
   "cell_type": "code",
   "execution_count": null,
   "id": "8e7f1d5e",
   "metadata": {},
   "outputs": [],
   "source": [
    "Q1. What is MongoDB? Explain non-relational databases in short. In which scenarios it is preferred to use MongoDB over SQL databases?"
   ]
  },
  {
   "cell_type": "code",
   "execution_count": null,
   "id": "275489a3",
   "metadata": {},
   "outputs": [],
   "source": [
    "MongoDB is a popular document-oriented NoSQL database that stores data in flexible, JSON-like documents. It is designed for high availability, scalability, and performance, and is commonly used for web, mobile, and IoT applications.\n",
    "Non-relational databases, also known as NoSQL databases, are database management systems that do not use the traditional relational database model that SQL databases use. Instead, NoSQL databases use different data models, such as document-oriented, key-value, column-family, or graph.\n",
    "NoSQL databases are preferred over SQL databases in scenarios where there is a need for high scalability, agility, and flexibility in handling large, unstructured or semi-structured data. This makes NoSQL databases a good choice for use cases such as web analytics, content management systems, real-time data processing, and IoT applications.\n",
    "MongoDB is preferred over SQL databases in scenarios where there is a need for handling large volumes of semi-structured or unstructured data with high availability, performance, and scalability requirements. It is commonly used for use cases such as e-commerce, content management, mobile applications, and real-time analytics.\n",
    "Some specific advantages of MongoDB over SQL databases include its ability to handle unstructured and semi-structured data, its flexible schema, its horizontal scalability, and its support for sharding and replication. Additionally, MongoDB's query language is more similar to modern programming languages, which makes it easier for developers to work with."
   ]
  },
  {
   "cell_type": "code",
   "execution_count": null,
   "id": "9e217831",
   "metadata": {},
   "outputs": [],
   "source": [
    "Q2. State and Explain the features of MongoDB."
   ]
  },
  {
   "cell_type": "code",
   "execution_count": null,
   "id": "cafb60b9",
   "metadata": {},
   "outputs": [],
   "source": [
    "MongoDB is a popular NoSQL database that offers a range of features that make it a popular choice for developers and organizations looking for a scalable and flexible database solution. Some of the key features of MongoDB include:\n",
    "Document-oriented data model: MongoDB stores data in flexible, JSON-like documents that can vary in structure, making it a good choice for handling semi-structured or unstructured data.\n",
    "High availability and scalability: MongoDB offers high availability and scalability through features such as automatic sharding, replication, and load balancing.\n",
    "Rich query language: MongoDB provides a powerful query language that supports a wide range of queries, including ad hoc queries, range queries, and full-text search.\n",
    "Indexing: MongoDB provides a range of indexing options, including single-field, compound, and multi-key indexes.\n",
    "Aggregation: MongoDB offers a flexible aggregation framework that allows developers to perform advanced data processing and analysis, such as grouping, sorting, and filtering.\n",
    "GridFS: MongoDB offers GridFS, a file storage system that allows developers to store and retrieve large files, such as images and videos, as part of the database.\n",
    "Transactions: MongoDB supports multi-document transactions, allowing developers to perform complex operations that span multiple documents.\n",
    "Security: MongoDB offers a range of security features, such as access control, authentication, and encryption, to ensure the security and integrity of the data stored in the database.\n",
    "Flexibility: MongoDB's flexible data model and schemaless design make it a good choice for rapidly evolving applications and dynamic environments\n",
    "Overall, MongoDB's rich feature set and flexibility make it a popular choice for a wide range of use cases, from mobile and web applications to IoT and real-time analytics."
   ]
  },
  {
   "cell_type": "code",
   "execution_count": null,
   "id": "f5eb11ff",
   "metadata": {},
   "outputs": [],
   "source": [
    "Q3. Write a code to connect MongoDB to Python. Also, create a database and a collection in MongoDB."
   ]
  },
  {
   "cell_type": "code",
   "execution_count": null,
   "id": "3f3bb485",
   "metadata": {},
   "outputs": [],
   "source": [
    "# Import the PyMongo library\n",
    "import pymongo\n",
    "# Connect to the MongoDB server\n",
    "client = pymongo.MongoClient(\"mongodb://localhost:27017/\")\n",
    "# Create a new database\n",
    "db = client[\"mydatabase\"]\n",
    "# Create a new collection in the database\n",
    "collection = db[\"mycollection\"]\n",
    "# Insert a new document into the collection\n",
    "document = {\"name\": \"John\", \"age\": 30, \"city\": \"New York\"}\n",
    "collection.insert_one(document)\n",
    "# Find a document in the collection\n",
    "query = {\"name\": \"John\"}\n",
    "result = collection.find_one(query)\n",
    "print(result)"
   ]
  },
  {
   "cell_type": "code",
   "execution_count": null,
   "id": "409b9e07",
   "metadata": {},
   "outputs": [],
   "source": [
    "Q4. Using the database and the collection created in question number 3, write a code to insert one record, and insert many records. Use the find() and find_one() methods to print the inserted record."
   ]
  },
  {
   "cell_type": "code",
   "execution_count": null,
   "id": "20663cd5",
   "metadata": {},
   "outputs": [],
   "source": [
    "# Import the PyMongo library\n",
    "import pymongo\n",
    "# Connect to the MongoDB server\n",
    "client = pymongo.MongoClient(\"mongodb://localhost:27017/\")\n",
    "# Create a reference to the \"mycollection\" collection in the \"mydatabase\" database\n",
    "db = client[\"mydatabase\"]\n",
    "collection = db[\"mycollection\"]\n",
    "# Insert one record into the collection\n",
    "record_one = {\"name\": \"Alice\", \"age\": 25, \"city\": \"Los Angeles\"}\n",
    "result_one = collection.insert_one(record_one)\n",
    "print(\"Inserted record ID:\", result_one.inserted_id)\n",
    "# Insert many records into the collection\n",
    "records_many = [\n",
    "    {\"name\": \"Bob\", \"age\": 30, \"city\": \"New York\"},\n",
    "    {\"name\": \"Charlie\", \"age\": 35, \"city\": \"San Francisco\"},\n",
    "    {\"name\": \"David\", \"age\": 40, \"city\": \"Boston\"}\n",
    "]\n",
    "result_many = collection.insert_many(records_many)\n",
    "print(\"Inserted records IDs:\", result_many.inserted_ids)\n",
    "# Find one record in the collection\n",
    "query = {\"name\": \"Alice\"}\n",
    "result = collection.find_one(query)\n",
    "print(\"Found record:\", result)\n",
    "# Find all records in the collection\n",
    "results = collection.find()\n",
    "print(\"All records:\")\n",
    "for result in results:\n",
    "    print(result)"
   ]
  },
  {
   "cell_type": "code",
   "execution_count": null,
   "id": "c0b6e79c",
   "metadata": {},
   "outputs": [],
   "source": [
    "Q5. Explain how you can use the find() method to query the MongoDB database. Write a simple code to demonstrate this."
   ]
  },
  {
   "cell_type": "code",
   "execution_count": null,
   "id": "3b2f3ed6",
   "metadata": {},
   "outputs": [],
   "source": [
    "The find() method is used to query a MongoDB database for documents that match a specified set of criteria. This method returns a cursor object that can be used to iterate over the matching documents.\n",
    "Here's an example code to demonstrate how to use the find() method to query a MongoDB database:"
   ]
  },
  {
   "cell_type": "code",
   "execution_count": null,
   "id": "e7a7ff73",
   "metadata": {},
   "outputs": [],
   "source": [
    "# Import the PyMongo library\n",
    "import pymongo\n",
    "# Connect to the MongoDB server\n",
    "client = pymongo.MongoClient(\"mongodb://localhost:27017/\")\n",
    "# Create a reference to the \"mycollection\" collection in the \"mydatabase\" database\n",
    "db = client[\"mydatabase\"]\n",
    "collection = db[\"mycollection\"]\n",
    "# Find all documents in the collection\n",
    "results = collection.find()\n",
    "# Iterate over the results and print each document\n",
    "for result in results:\n",
    "    print(result)"
   ]
  },
  {
   "cell_type": "code",
   "execution_count": null,
   "id": "178bcc25",
   "metadata": {},
   "outputs": [],
   "source": [
    "Q6. Explain the sort() method. Give an example to demonstrate sorting in MongoDB."
   ]
  },
  {
   "cell_type": "code",
   "execution_count": null,
   "id": "6ce56841",
   "metadata": {},
   "outputs": [],
   "source": [
    "The sort() method is used to sort the results of a MongoDB query in either ascending or descending order. This method takes one or more key-value pairs that specify the fields to sort by and the order in which to sort them.\n",
    "Here's an example to demonstrate how to use the sort() method to sort the results of a MongoDB query:"
   ]
  },
  {
   "cell_type": "code",
   "execution_count": null,
   "id": "32ef6b97",
   "metadata": {},
   "outputs": [],
   "source": [
    "# Import the PyMongo library\n",
    "import pymongo\n",
    "# Connect to the MongoDB server\n",
    "client = pymongo.MongoClient(\"mongodb://localhost:27017/\")\n",
    "# Create a reference to the \"mycollection\" collection in the \"mydatabase\" database\n",
    "db = client[\"mydatabase\"]\n",
    "collection = db[\"mycollection\"]\n",
    "# Insert some sample documents into the collection\n",
    "collection.insert_many([\n",
    "    {\"name\": \"Alice\", \"age\": 25},\n",
    "    {\"name\": \"Bob\", \"age\": 30},\n",
    "    {\"name\": \"Charlie\", \"age\": 35}\n",
    "])\n",
    "# Sort the documents in the collection by age in ascending order\n",
    "results = collection.find().sort(\"age\", pymongo.ASCENDING)\n",
    "# Print the sorted documents\n",
    "for result in results:\n",
    "    print(result)"
   ]
  },
  {
   "cell_type": "code",
   "execution_count": null,
   "id": "11280f18",
   "metadata": {},
   "outputs": [],
   "source": [
    "Q7. Explain why delete_one(), delete_many(), and drop() is used."
   ]
  },
  {
   "cell_type": "code",
   "execution_count": null,
   "id": "d3728105",
   "metadata": {},
   "outputs": [],
   "source": [
    "In MongoDB, the delete_one() and delete_many() methods are used to remove documents from a collection that match a specified set of criteria. The drop() method is used to remove an entire collection from a database.\n",
    "Here's a brief explanation of each method:\n",
    "delete_one(filter): This method deletes the first document that matches the specified filter criteria. If there are multiple documents that match the criteria, only the first one is deleted. This method returns a DeleteResult object that contains information about the operation, such as the number of documents deleted.\n",
    "delete_many(filter): This method deletes all documents that match the specified filter criteria. This method returns a DeleteResult object that contains information about the operation, such as the number of documents deleted.\n",
    "drop(): This method removes an entire collection from the database. This method returns None.\n",
    "These methods are used to remove documents from a MongoDB collection for various reasons, such as removing outdated or invalid data, cleaning up unused records, or removing duplicates. The drop() method is used when you want to completely remove a collection from the database and all of its associated documents.\n",
    "It's important to note that when using any of these methods, you should exercise caution and double-check that you are deleting the correct documents or collections, as the deleted data cannot be recovered."
   ]
  },
  {
   "cell_type": "code",
   "execution_count": null,
   "id": "98a993c3",
   "metadata": {},
   "outputs": [],
   "source": []
  },
  {
   "cell_type": "code",
   "execution_count": null,
   "id": "c8ac0bbf",
   "metadata": {},
   "outputs": [],
   "source": []
  },
  {
   "cell_type": "code",
   "execution_count": null,
   "id": "a112c77a",
   "metadata": {},
   "outputs": [],
   "source": []
  },
  {
   "cell_type": "code",
   "execution_count": null,
   "id": "aa158ceb",
   "metadata": {},
   "outputs": [],
   "source": []
  },
  {
   "cell_type": "code",
   "execution_count": null,
   "id": "b294d3cc",
   "metadata": {},
   "outputs": [],
   "source": []
  },
  {
   "cell_type": "code",
   "execution_count": null,
   "id": "e248b901",
   "metadata": {},
   "outputs": [],
   "source": []
  },
  {
   "cell_type": "code",
   "execution_count": null,
   "id": "b23d452c",
   "metadata": {},
   "outputs": [],
   "source": []
  },
  {
   "cell_type": "code",
   "execution_count": null,
   "id": "293eefec",
   "metadata": {},
   "outputs": [],
   "source": []
  },
  {
   "cell_type": "code",
   "execution_count": null,
   "id": "b3f95bfc",
   "metadata": {},
   "outputs": [],
   "source": []
  },
  {
   "cell_type": "code",
   "execution_count": null,
   "id": "946fe4b2",
   "metadata": {},
   "outputs": [],
   "source": []
  },
  {
   "cell_type": "code",
   "execution_count": null,
   "id": "ab1ed19d",
   "metadata": {},
   "outputs": [],
   "source": []
  },
  {
   "cell_type": "code",
   "execution_count": null,
   "id": "a071b4cb",
   "metadata": {},
   "outputs": [],
   "source": []
  },
  {
   "cell_type": "code",
   "execution_count": null,
   "id": "eed8f871",
   "metadata": {},
   "outputs": [],
   "source": []
  },
  {
   "cell_type": "code",
   "execution_count": null,
   "id": "6bf64eb5",
   "metadata": {},
   "outputs": [],
   "source": []
  },
  {
   "cell_type": "code",
   "execution_count": null,
   "id": "4d32b3ab",
   "metadata": {},
   "outputs": [],
   "source": []
  },
  {
   "cell_type": "code",
   "execution_count": null,
   "id": "b8dc847a",
   "metadata": {},
   "outputs": [],
   "source": []
  },
  {
   "cell_type": "code",
   "execution_count": null,
   "id": "e74b13e3",
   "metadata": {},
   "outputs": [],
   "source": []
  },
  {
   "cell_type": "code",
   "execution_count": null,
   "id": "92221c07",
   "metadata": {},
   "outputs": [],
   "source": []
  },
  {
   "cell_type": "code",
   "execution_count": null,
   "id": "1fd3d61e",
   "metadata": {},
   "outputs": [],
   "source": []
  },
  {
   "cell_type": "code",
   "execution_count": null,
   "id": "de2f9119",
   "metadata": {},
   "outputs": [],
   "source": []
  },
  {
   "cell_type": "code",
   "execution_count": null,
   "id": "420e3d68",
   "metadata": {},
   "outputs": [],
   "source": []
  },
  {
   "cell_type": "code",
   "execution_count": null,
   "id": "39088a67",
   "metadata": {},
   "outputs": [],
   "source": []
  },
  {
   "cell_type": "code",
   "execution_count": null,
   "id": "673ce9be",
   "metadata": {},
   "outputs": [],
   "source": []
  },
  {
   "cell_type": "code",
   "execution_count": null,
   "id": "299fd3ef",
   "metadata": {},
   "outputs": [],
   "source": []
  },
  {
   "cell_type": "code",
   "execution_count": null,
   "id": "65d98510",
   "metadata": {},
   "outputs": [],
   "source": []
  },
  {
   "cell_type": "code",
   "execution_count": null,
   "id": "5b8009b7",
   "metadata": {},
   "outputs": [],
   "source": []
  },
  {
   "cell_type": "code",
   "execution_count": null,
   "id": "fb51fd59",
   "metadata": {},
   "outputs": [],
   "source": []
  },
  {
   "cell_type": "code",
   "execution_count": null,
   "id": "636f5c1f",
   "metadata": {},
   "outputs": [],
   "source": []
  },
  {
   "cell_type": "code",
   "execution_count": null,
   "id": "64a67974",
   "metadata": {},
   "outputs": [],
   "source": []
  },
  {
   "cell_type": "code",
   "execution_count": null,
   "id": "f575ea5a",
   "metadata": {},
   "outputs": [],
   "source": []
  },
  {
   "cell_type": "code",
   "execution_count": null,
   "id": "1fdcc1ac",
   "metadata": {},
   "outputs": [],
   "source": []
  },
  {
   "cell_type": "code",
   "execution_count": null,
   "id": "1514b8f0",
   "metadata": {},
   "outputs": [],
   "source": []
  }
 ],
 "metadata": {
  "kernelspec": {
   "display_name": "Python 3 (ipykernel)",
   "language": "python",
   "name": "python3"
  },
  "language_info": {
   "codemirror_mode": {
    "name": "ipython",
    "version": 3
   },
   "file_extension": ".py",
   "mimetype": "text/x-python",
   "name": "python",
   "nbconvert_exporter": "python",
   "pygments_lexer": "ipython3",
   "version": "3.9.7"
  }
 },
 "nbformat": 4,
 "nbformat_minor": 5
}
